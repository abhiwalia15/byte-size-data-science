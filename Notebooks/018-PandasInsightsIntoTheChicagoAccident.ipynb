{
 "cells": [
  {
   "cell_type": "markdown",
   "metadata": {},
   "source": [
    "<IMG SRC=\"https://github.com/jacquesroy/byte-size-data-science/raw/master/images/Banner.png\" ALT=\"BSDS Banner\" WIDTH=1195 HEIGHT=200>"
   ]
  },
  {
   "cell_type": "markdown",
   "metadata": {},
   "source": [
    "## Chicago Car Accident Data Analysis\n",
    "In this notebook, we analyze the data using a Python environment.<br/>\n",
    "We also use Pixiedust as the engine over Mapbox to display maps in the later part of the analysis.\n",
    "\n",
    "In an additional section, we see how we could use additional data to add the city name to each record.\n",
    "\n",
    "## Additional Information\n",
    "The chicago accident information includes three files:\n",
    "\n",
    "<ul><li>Traffic_Crashes_-_Crashes.csv</li>\n",
    "    <li>Traffic_Crashes_-_People.csv</li>\n",
    "    <li>Traffic_Crashes_-_Vehicles.csv</li>\n",
    "</ul>\n",
    "We could add information coming from the people or vehicle files to our crashes data. This is beyond the scope of this example.\n",
    "\n",
    "Useful data could include: How many people were involved in each accident, how many vehicles were involved in each accident, what type of vehicle is involved in each accidents."
   ]
  },
  {
   "cell_type": "markdown",
   "metadata": {},
   "source": [
    "### 018-Python Pandas Data Exploration\n",
    "Execute the next cell if you want to see the `Byte Size Data Science` youtube channel video"
   ]
  },
  {
   "cell_type": "code",
   "execution_count": null,
   "metadata": {},
   "outputs": [],
   "source": [
    "from IPython.display import IFrame\n",
    "\n",
    "IFrame(src=\"https://www.youtube.com/embed/AeeHapnLhyE?rel=0&amp;controls=0&amp;showinfo=0\", width=560, height=315)\n"
   ]
  },
  {
   "cell_type": "markdown",
   "metadata": {},
   "source": [
    "## Read the crash data\n",
    "In this section, we read the data as a Pandas DataFrame"
   ]
  },
  {
   "cell_type": "code",
   "execution_count": null,
   "metadata": {},
   "outputs": [],
   "source": [
    "# PixieDust is an open source library that was contributed by IBM\n",
    "!pip install --user --upgrade pixiedust"
   ]
  },
  {
   "cell_type": "code",
   "execution_count": null,
   "metadata": {},
   "outputs": [],
   "source": [
    "import pixiedust"
   ]
  },
  {
   "cell_type": "code",
   "execution_count": null,
   "metadata": {},
   "outputs": [],
   "source": [
    "import sys\n",
    "import types\n",
    "import pandas as pd\n",
    "import urllib.request\n",
    "import zipfile\n",
    "\n",
    "url = 'https://github.com/jacquesroy/byte-size-data-science/raw/master/data/ChicagoTrafficCrashes20180917.csv.zip'\n",
    "# get the filename from the url: \"ChicagoTrafficCrashes20180917.csv\"\n",
    "filename = url.rsplit('/', 1)[-1].rsplit('.', 1)[0]\n",
    "\n",
    "urllib.request.urlretrieve(url, filename)\n",
    "compressed_file = zipfile.ZipFile(filename)\n",
    "csv_file = compressed_file.open(filename)\n",
    "collisions_pd = pd.read_csv(csv_file)\n",
    "\n",
    "print(\"Number of records: {}\".format(collisions_pd['RD_NO'].count()))\n",
    "collisions_pd.head(1)"
   ]
  },
  {
   "cell_type": "markdown",
   "metadata": {},
   "source": [
    "## Basic Statistics"
   ]
  },
  {
   "cell_type": "code",
   "execution_count": null,
   "metadata": {},
   "outputs": [],
   "source": [
    "# Display the DataFrame schema\n",
    "collisions_pd.dtypes"
   ]
  },
  {
   "cell_type": "code",
   "execution_count": null,
   "metadata": {},
   "outputs": [],
   "source": [
    "# Convert the two datetime columns to the proper type\n",
    "collisions_pd['CRASH_DATE'] = \\\n",
    "           collisions_pd['CRASH_DATE'].apply(pd.to_datetime, infer_datetime_format=True, errors='coerce')\n",
    "collisions_pd['DATE_POLICE_NOTIFIED'] = \\\n",
    "           collisions_pd['DATE_POLICE_NOTIFIED'].apply(pd.to_datetime, infer_datetime_format=True, errors='coerce')"
   ]
  },
  {
   "cell_type": "code",
   "execution_count": null,
   "metadata": {},
   "outputs": [],
   "source": [
    "collisions_pd.dtypes"
   ]
  },
  {
   "cell_type": "markdown",
   "metadata": {},
   "source": [
    "### Count of non-null values in each column"
   ]
  },
  {
   "cell_type": "code",
   "execution_count": null,
   "metadata": {},
   "outputs": [],
   "source": [
    "collisions_pd.count()"
   ]
  },
  {
   "cell_type": "code",
   "execution_count": null,
   "metadata": {},
   "outputs": [],
   "source": [
    "# Column statistics for numerical columns\n",
    "# It is important to note that the datetime columns are not included.\n",
    "collisions_pd.describe()"
   ]
  },
  {
   "cell_type": "code",
   "execution_count": null,
   "metadata": {},
   "outputs": [],
   "source": [
    "# Min/max statistics on the datetime columns\n",
    "print(\"                      Min                Max\")\n",
    "print(\"CRASH_DATE           \" + str(collisions_pd['CRASH_DATE'].min()) + \" \" + \n",
    "                                str(collisions_pd['CRASH_DATE'].max()) )\n",
    "print(\"DATE_POLICE_NOTIFIED \" + str(collisions_pd['DATE_POLICE_NOTIFIED'].min()) + \" \" + \n",
    "                                str(collisions_pd['DATE_POLICE_NOTIFIED'].max()) )\n",
    "      "
   ]
  },
  {
   "cell_type": "code",
   "execution_count": null,
   "metadata": {},
   "outputs": [],
   "source": [
    "# Number of unique values in each column\n",
    "collisions_pd.nunique()"
   ]
  },
  {
   "cell_type": "markdown",
   "metadata": {},
   "source": [
    "From the previous outputs, we see that CRASH_DATE_EST_I is mostly null (92.5% of the time)<br/>\n",
    "We see multiple columns with even lower count of non-null values.<br/>\n",
    "We see that the POSTED_SPEED_LIMIT maximum is 99 and there are 35 different speed limits so that raises some questions.\n",
    "\n",
    "So these statistics already provide a lot of information."
   ]
  },
  {
   "cell_type": "markdown",
   "metadata": {},
   "source": [
    "### Exploring further\n",
    "We saw earlier that the minumum CRASH DATE was 2014-01-21 and the minimum DATE_POLICE_NOTIFIED was 2015-07-25<br/>\n",
    "That indicates that there probably are some errors in the data.\n",
    "\n",
    "The POSTED_SPEED_LIMIT value has a maximum of 99. This is suspicious.\n",
    "\n",
    "There are more..."
   ]
  },
  {
   "cell_type": "code",
   "execution_count": null,
   "metadata": {},
   "outputs": [],
   "source": [
    "# DATE_POLICE_NOTIFIED should always be greater or equal to CRASH_DATE\n",
    "# It is weird that nlargest is set to 30 and only 21 values are returned\n",
    "# When it is set to 20, only 11 are returned\n",
    "import numpy as np\n",
    "x = collisions_pd[collisions_pd['DATE_POLICE_NOTIFIED'].notna()][['DATE_POLICE_NOTIFIED', 'CRASH_DATE']]\n",
    "x['days'] = (x.DATE_POLICE_NOTIFIED - x.CRASH_DATE).astype('timedelta64[D]')\n",
    "# x.describe()\n",
    "x[x['days'] > 0][['days']].nlargest(10, columns='days').groupby('days').size()"
   ]
  },
  {
   "cell_type": "code",
   "execution_count": null,
   "metadata": {},
   "outputs": [],
   "source": [
    "# Number of date differences larger than 30\n",
    "x[x['days'] > 30]['days'].count()"
   ]
  },
  {
   "cell_type": "markdown",
   "metadata": {},
   "source": [
    "## Posted Speed Limit\n",
    "We saw earlier that there are 35 different speed limits. Let's see what they are and their count\n",
    "\n",
    "We could do a similar analysis with other columns."
   ]
  },
  {
   "cell_type": "code",
   "execution_count": null,
   "metadata": {},
   "outputs": [],
   "source": [
    "collisions_pd.groupby('POSTED_SPEED_LIMIT').size()"
   ]
  },
  {
   "cell_type": "markdown",
   "metadata": {},
   "source": [
    "## Count accidents, accidents with injuries, accidents with casualties"
   ]
  },
  {
   "cell_type": "code",
   "execution_count": null,
   "metadata": {},
   "outputs": [],
   "source": [
    "# Count only accidents that have longitude and latitude\n",
    "print( \"Number of accidents                : \" + str(collisions_pd[collisions_pd['LONGITUDE'].notna() \\\n",
    "                                                                   & collisions_pd['LATITUDE'].notna()]['RD_NO'].count()) )\n",
    "print( \"Number of accidents with injuries  : \" + str(collisions_pd[collisions_pd['LONGITUDE'].notna() \\\n",
    "                                                                   & collisions_pd['LATITUDE'].notna() \\\n",
    "                                                                   & collisions_pd['INJURIES_TOTAL'] > 0]['RD_NO'].count()) )\n",
    "print( \"Number of accidents with fatalities: \" + str(collisions_pd[collisions_pd['LONGITUDE'].notna() \\\n",
    "                                                                   & collisions_pd['LATITUDE'].notna() \\\n",
    "                                                                   & collisions_pd['INJURIES_FATAL'] > 0]['RD_NO'].count()) )\n"
   ]
  },
  {
   "cell_type": "markdown",
   "metadata": {},
   "source": [
    "## Additional stuff\n",
    "<ul><li>Visualization: grouping by street/type of accident, beat/type of accident, month, day, week, hour</li>\n",
    "    <li>Plot all accidents, plot by accident type</li>\n",
    "    <li>Plot accidents and street with most accidents</li>\n",
    "</ul>"
   ]
  },
  {
   "cell_type": "code",
   "execution_count": null,
   "metadata": {},
   "outputs": [],
   "source": [
    "import pandas as pd\n",
    "import numpy as np\n",
    "import seaborn as sns\n",
    "\n",
    "import matplotlib.pyplot as plt\n",
    "# matplotlib.patches lets us create colored patches, which we can use for legends in plots\n",
    "import matplotlib.patches as mpatches\n",
    "# seaborn also builds on matplotlib and adds graphical features and new plot types\n",
    "# adjust settings\n",
    "# The inline statement insures that the plot will show in the cell output. Look at the documentation for more information\n",
    "%matplotlib inline\n",
    "sns.set_style(\"white\")\n",
    "plt.rcParams['figure.figsize'] = (15, 15)"
   ]
  },
  {
   "cell_type": "markdown",
   "metadata": {},
   "source": [
    "### Grouping accidents\n",
    "First by street for 3 categories:\n",
    "\n",
    "- All accidents\n",
    "- Accidents with injuries\n",
    "- Accidents with fatalities"
   ]
  },
  {
   "cell_type": "code",
   "execution_count": null,
   "metadata": {},
   "outputs": [],
   "source": [
    "# Plot the top 15 streets by accident count\n",
    "plt.figure(figsize=(8,5))\n",
    "streets = collisions_pd.groupby('STREET_NAME')['RD_NO'].agg(['count']).sort_values('count', ascending=-False).head(15).reset_index(drop=False)\n",
    "colors = ['g','0.75','y','k','b','r']\n",
    "streets.sort_values(by='count', ascending=True)['count'].plot.barh(color=colors)\n",
    "plt.xlabel('Collisions')\n",
    "plt.ylabel('Street')\n",
    "plt.title('Total Number of Collisions by Street', size=15)\n",
    "plt.yticks(range(0,15),streets['STREET_NAME'])\n",
    "plt.tight_layout()\n",
    "plt.show()"
   ]
  },
  {
   "cell_type": "code",
   "execution_count": null,
   "metadata": {},
   "outputs": [],
   "source": [
    "#divide dataset into accident categories: fatal, non-fatal but with injuries, none of the above\n",
    "killed_pd = collisions_pd[collisions_pd['INJURIES_FATAL']>0]\n",
    "injured_pd = collisions_pd[np.logical_and(collisions_pd['INJURIES_TOTAL']>0, collisions_pd['INJURIES_FATAL']==0)]\n",
    "nothing_pd = collisions_pd[np.logical_and(collisions_pd['INJURIES_FATAL']==0, collisions_pd['INJURIES_TOTAL']==0)]"
   ]
  },
  {
   "cell_type": "code",
   "execution_count": null,
   "metadata": {},
   "outputs": [],
   "source": [
    "#create scatterplots\n",
    "plt.figure(figsize=(15,10))\n",
    "plt.scatter(collisions_pd.LONGITUDE, collisions_pd.LATITUDE, alpha=0.05, s=4, color='darkseagreen')\n",
    "\n",
    "#adjust more settings\n",
    "plt.title('Motor Vehicle Collisions in Chicago', size=25)\n",
    "plt.xlim((-87.92,-87.52))\n",
    "plt.ylim((41.64,42.03))\n",
    "plt.xlabel('Longitude',size=20)\n",
    "plt.ylabel('Latitude',size=20)\n",
    "\n",
    "plt.show()"
   ]
  },
  {
   "cell_type": "markdown",
   "metadata": {},
   "source": [
    "## Enhance the scatter plot to identify the accidents severity\n",
    "We draw from Pandas DataFrames we created earlier to plot the severity in different color"
   ]
  },
  {
   "cell_type": "code",
   "execution_count": null,
   "metadata": {},
   "outputs": [],
   "source": [
    "#adjust settings\n",
    "plt.figure(figsize=(15,10))\n",
    "\n",
    "#create scatterplots\n",
    "plt.scatter(nothing_pd.LONGITUDE, nothing_pd.LATITUDE, alpha=0.04, s=1, color='blue')\n",
    "plt.scatter(injured_pd.LONGITUDE, injured_pd.LATITUDE, alpha=0.1, s=1, color='yellow')\n",
    "plt.scatter(killed_pd.LONGITUDE, killed_pd.LATITUDE, color='red', s=5)\n",
    "\n",
    "#create legend\n",
    "blue_patch = mpatches.Patch( label='car body damage', alpha=0.2, color='blue')\n",
    "yellow_patch = mpatches.Patch(color='yellow', label='personal injury', alpha=0.5)\n",
    "red_patch = mpatches.Patch(color='red', label='lethal accidents')\n",
    "plt.legend([blue_patch, yellow_patch, red_patch],('car body damage', 'personal injury', 'fatal accidents'), \n",
    "           loc='upper left', prop={'size':20})\n",
    "\n",
    "#adjust more settings\n",
    "plt.title('Severity of Motor Vehicle Collisions in Chicago', size=20)\n",
    "plt.xlim((-87.92,-87.52))\n",
    "plt.ylim((41.64,42.03))\n",
    "plt.xlabel('Longitude',size=20)\n",
    "plt.ylabel('Latitude',size=20)\n",
    "plt.savefig('anothertry.png')\n",
    "\n",
    "plt.show()"
   ]
  },
  {
   "cell_type": "markdown",
   "metadata": {},
   "source": [
    "## Using K-Means to find hot spots\n",
    "We are using K-means to find the center of groupings of accidents.\n",
    "\n",
    "The process is as follows:\n",
    "<ul>\n",
    "    <li>We extract the longitude and latitude of all accidents</li>\n",
    "    <li>We create a model (for, arbitrarily, 10 clusters)</li>\n",
    "    <li>We extract the centers and convert them to a Panda DataFrame</li>\n",
    "    <li>We display the result on a map using pixiedust</li>\n",
    "</ul>"
   ]
  },
  {
   "cell_type": "code",
   "execution_count": null,
   "metadata": {},
   "outputs": [],
   "source": [
    "# Create dataframes for all accidents, accidents with injuries and accidents with fatalities\n",
    "data_pd = collisions_pd[collisions_pd['LONGITUDE'].notna() \\\n",
    "                        & collisions_pd['LATITUDE'].notna()][['INJURIES_TOTAL','INJURIES_FATAL','LONGITUDE','LATITUDE']]\n",
    "data_injuries_pd = data_pd[data_pd['INJURIES_TOTAL'] > 0]\n",
    "data_fatal_pd = data_pd[data_pd['INJURIES_FATAL'] > 0]"
   ]
  },
  {
   "cell_type": "code",
   "execution_count": null,
   "metadata": {},
   "outputs": [],
   "source": [
    "import matplotlib.pyplot as plt\n",
    "from sklearn import datasets\n",
    "from sklearn.cluster import KMeans\n",
    "import sklearn.metrics as sm\n",
    "\n",
    "%matplotlib inline"
   ]
  },
  {
   "cell_type": "code",
   "execution_count": null,
   "metadata": {},
   "outputs": [],
   "source": [
    "# K Means Cluster\n",
    "k=10\n",
    "model = KMeans(n_clusters=k)\n",
    "kmeans = model.fit(data_pd[['LONGITUDE','LATITUDE']])\n",
    "vals=[0] * k\n",
    "for i in kmeans.labels_ :\n",
    "    vals[i] = vals[i] + 1"
   ]
  },
  {
   "cell_type": "code",
   "execution_count": null,
   "metadata": {},
   "outputs": [],
   "source": [
    "# Create a Panda dataframe for display\n",
    "d = {'longitude': kmeans.cluster_centers_[:,0], 'latitude': kmeans.cluster_centers_[:,1], 'total' : vals}\n",
    "k_pd = pd.DataFrame(data=d)"
   ]
  },
  {
   "cell_type": "code",
   "execution_count": null,
   "metadata": {
    "pixiedust": {
     "displayParams": {
      "basemap": "outdoors-v9",
      "coloropacity": "90",
      "colorrampname": "Green to Purple",
      "handlerId": "mapView",
      "keyFields": "latitude,longitude",
      "mapboxtoken": "pk.eyJ1IjoibWFwYm94IiwiYSI6ImNpejY4M29iazA2Z2gycXA4N2pmbDZmangifQ.-g_vE53SD2WrJ6tFX7QHmA",
      "valueFields": "total"
     }
    },
    "scrolled": false
   },
   "outputs": [],
   "source": [
    "display(k_pd)"
   ]
  },
  {
   "cell_type": "markdown",
   "metadata": {},
   "source": [
    "## K-Means for accidents with fatalities"
   ]
  },
  {
   "cell_type": "code",
   "execution_count": null,
   "metadata": {},
   "outputs": [],
   "source": [
    "# K Means Cluster\n",
    "k=10\n",
    "model = KMeans(n_clusters=k)\n",
    "kmeans = model.fit(data_fatal_pd[['LONGITUDE','LATITUDE']])\n",
    "vals=[0] * k\n",
    "for i in kmeans.labels_ :\n",
    "    vals[i] = vals[i] + 1"
   ]
  },
  {
   "cell_type": "code",
   "execution_count": null,
   "metadata": {},
   "outputs": [],
   "source": [
    "# Create a Panda dataframe for display\n",
    "d2 = {'longitude': kmeans.cluster_centers_[:,0], 'latitude': kmeans.cluster_centers_[:,1], 'total' : vals}\n",
    "k2_pd = pd.DataFrame(data=d2)"
   ]
  },
  {
   "cell_type": "code",
   "execution_count": null,
   "metadata": {
    "pixiedust": {
     "displayParams": {
      "basemap": "outdoors-v9",
      "coloropacity": "90",
      "colorrampname": "Green to Purple",
      "handlerId": "mapView",
      "keyFields": "latitude,longitude",
      "mapboxtoken": "pk.eyJ1IjoibWFwYm94IiwiYSI6ImNpejY4M29iazA2Z2gycXA4N2pmbDZmangifQ.-g_vE53SD2WrJ6tFX7QHmA",
      "valueFields": "total"
     }
    }
   },
   "outputs": [],
   "source": [
    "display(k2_pd)"
   ]
  },
  {
   "cell_type": "code",
   "execution_count": null,
   "metadata": {},
   "outputs": [],
   "source": []
  }
 ],
 "metadata": {
  "kernelspec": {
   "display_name": "Python 3.6",
   "language": "python",
   "name": "python3"
  },
  "language_info": {
   "codemirror_mode": {
    "name": "ipython",
    "version": 3
   },
   "file_extension": ".py",
   "mimetype": "text/x-python",
   "name": "python",
   "nbconvert_exporter": "python",
   "pygments_lexer": "ipython3",
   "version": "3.6.8"
  }
 },
 "nbformat": 4,
 "nbformat_minor": 1
}

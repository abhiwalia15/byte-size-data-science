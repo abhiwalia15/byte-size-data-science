{
 "cells": [
  {
   "cell_type": "markdown",
   "metadata": {},
   "source": [
    "<IMG SRC=\"https://github.com/jacquesroy/byte-size-data-science/raw/master/images/Banner.png\" ALT=\"BSDS Banner\" WIDTH=1195 HEIGHT=200>"
   ]
  },
  {
   "cell_type": "markdown",
   "metadata": {
    "collapsed": true
   },
   "source": [
    "# Distance between two geodetic points\n",
    "Calculate distances of one degree in different locations\n"
   ]
  },
  {
   "cell_type": "markdown",
   "metadata": {},
   "source": [
    "### 045-Geo distances\n",
    "Execute the next cell if you want to see the `Byte Size Data Science` youtube channel video"
   ]
  },
  {
   "cell_type": "code",
   "execution_count": null,
   "metadata": {},
   "outputs": [],
   "source": [
    "from IPython.display import IFrame\n",
    "\n",
    "IFrame(src=\"https://www.youtube.com/embed/LKANJBxxtuQ?rel=0&amp;controls=0&amp;showinfo=0\", width=560, height=315)\n",
    "\n",
    "*** Need the proper URL ***"
   ]
  },
  {
   "cell_type": "code",
   "execution_count": null,
   "metadata": {},
   "outputs": [],
   "source": [
    "# It looks like it's already part of the Python 3.6 libraries\n",
    "# !pip install geopy"
   ]
  },
  {
   "cell_type": "code",
   "execution_count": 1,
   "metadata": {},
   "outputs": [
    {
     "name": "stdout",
     "output_type": "stream",
     "text": [
      "Equator horizontal (longitudinal) distance: 69.17072471346931\n",
      "Northern horizontal (longitudinal) distance: 12.050404886330629\n",
      " \n",
      "Equator vertical (latitudinal) distance: 68.70773964907364\n",
      "Northern vertical (latitudinal) distance: 69.38429628844284\n"
     ]
    }
   ],
   "source": [
    "from geopy.distance import geodesic\n",
    "\n",
    "# equator\n",
    "equator_p1 = (0.0, 0.0)\n",
    "equator_p2 = (0.0, 1.0)\n",
    "equator_p3 = (1.0, 0.0)\n",
    "\n",
    "# Way north\n",
    "north_p1 = (80.0, 0.0)\n",
    "north_p2 = (80.0, 1.0)\n",
    "north_p3 = (81.0, 0.0)\n",
    "\n",
    "print(\"Equator horizontal (longitudinal) distance: \" + str(geodesic(equator_p1, equator_p2).miles))\n",
    "print(\"Northern horizontal (longitudinal) distance: \" + str(geodesic(north_p1, north_p2).miles))\n",
    "print(\" \")\n",
    "print(\"Equator vertical (latitudinal) distance: \" + str(geodesic(equator_p1, equator_p3).miles))\n",
    "print(\"Northern vertical (latitudinal) distance: \" + str(geodesic(north_p1, north_p3).miles))\n"
   ]
  },
  {
   "cell_type": "code",
   "execution_count": null,
   "metadata": {},
   "outputs": [],
   "source": []
  }
 ],
 "metadata": {
  "kernelspec": {
   "display_name": "Python 3.6",
   "language": "python",
   "name": "python3"
  },
  "language_info": {
   "codemirror_mode": {
    "name": "ipython",
    "version": 3
   },
   "file_extension": ".py",
   "mimetype": "text/x-python",
   "name": "python",
   "nbconvert_exporter": "python",
   "pygments_lexer": "ipython3",
   "version": "3.6.8"
  }
 },
 "nbformat": 4,
 "nbformat_minor": 1
}

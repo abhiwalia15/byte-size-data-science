{
 "cells": [
  {
   "cell_type": "markdown",
   "metadata": {},
   "source": [
    "<IMG SRC=\"https://github.com/jacquesroy/byte-size-data-science/raw/master/images/Banner.png\" ALT=\"BSDS Banner\" WIDTH=1195 HEIGHT=200>"
   ]
  },
  {
   "cell_type": "markdown",
   "metadata": {
    "collapsed": true
   },
   "source": [
    "## Chicago Car Accident Data Analysis\n",
    "In this notebook, we analyze the data using a Python environment.\n",
    "We also use Pixiedust as the engine over Mapbox to display maps in the later part of the analysis.\n",
    "\n",
    "In an additional section, we see how we could use additional data to add the city name to each record.\n",
    "\n",
    "## Additional Information\n",
    "The chicago accident information includes three files: Crashes, people, and vehicles.\n",
    "\n",
    "In this notebook, we explore the crashes through a file called ChicagoTrafficCrashes20180917.csv\n",
    "\n",
    "## Data Location\n",
    "The data was loaded in a Db2 Warehouse in the cloud. It is possible for you to use a free Db2 database lite to work with this data. "
   ]
  },
  {
   "cell_type": "markdown",
   "metadata": {},
   "source": [
    "### 032-JDBC Data Exploration\n",
    "Execute the next cell if you want to see the `Byte Size Data Science` youtube channel video"
   ]
  },
  {
   "cell_type": "code",
   "execution_count": null,
   "metadata": {},
   "outputs": [],
   "source": [
    "from IPython.display import IFrame\n",
    "\n",
    "IFrame(src=\"https://www.youtube.com/embed/qw4FtewQFZE?rel=0&amp;controls=0&amp;showinfo=0\", width=560, height=315)\n"
   ]
  },
  {
   "cell_type": "code",
   "execution_count": null,
   "metadata": {},
   "outputs": [],
   "source": [
    "# PixieDust is an open source library that was contributed by IBM\n",
    "!pip install --user --upgrade pixiedust"
   ]
  },
  {
   "cell_type": "code",
   "execution_count": null,
   "metadata": {},
   "outputs": [],
   "source": [
    "import pixiedust"
   ]
  },
  {
   "cell_type": "code",
   "execution_count": null,
   "metadata": {},
   "outputs": [],
   "source": [
    "\n",
    "# @hidden_cell\n",
    "# The following code contains the credentials for a connection in your Project.\n",
    "# You might want to remove those credentials before you share your notebook.\n",
    "credentials_1 = {\n",
    "    'username': 'psj85494',\n",
    "    'password': \"\"\"xw234wkr8xvclf^b\"\"\",\n",
    "    'sg_service_url': 'https://sgmanager.ng.bluemix.net',\n",
    "    'database': 'BLUDB',\n",
    "    'host': 'dashdb-txn-sbox-yp-dal09-04.services.dal.bluemix.net',\n",
    "    'port': '50000',\n",
    "    'url': 'https://undefined'\n",
    "}\n"
   ]
  },
  {
   "cell_type": "code",
   "execution_count": null,
   "metadata": {},
   "outputs": [],
   "source": [
    "import pandas as pd\n",
    "import ibm_db\n",
    "import ibm_db_dbi\n",
    "\n",
    "dsn = (\n",
    "    \"DRIVER={{IBM DB2 ODBC DRIVER}};\"\n",
    "    \"DATABASE={0};\"\n",
    "    \"HOSTNAME={1};\"\n",
    "    \"PORT={2};\"\n",
    "    \"PROTOCOL=TCPIP;\"\n",
    "    \"UID={3};\"\n",
    "    \"PWD={4};\").format(credentials_1['database'], credentials_1['host'],\n",
    "                       credentials_1['port'], credentials_1['username'], \n",
    "                       credentials_1['password'])\n",
    "\n",
    "conn = ibm_db.connect(dsn, \"\", \"\")\n",
    "pconn = ibm_db_dbi.Connection(conn)"
   ]
  },
  {
   "cell_type": "markdown",
   "metadata": {},
   "source": [
    "## Basic Statistics\n",
    "- Total number of records in the table\n",
    "- Number of non-null values for each column\n",
    "- Min/Max for selected columms\n",
    "- Number of distinct values in some columns"
   ]
  },
  {
   "cell_type": "code",
   "execution_count": null,
   "metadata": {},
   "outputs": [],
   "source": [
    "# Number of records in the table\n",
    "sql = \"\"\"\n",
    "  select count(*) cnt \n",
    "  from traffic_crashes_crashes;\n",
    "\"\"\"\n",
    "\n",
    "data_pd = pd.read_sql(sql, pconn)\n",
    "data_pd.head(5)"
   ]
  },
  {
   "cell_type": "code",
   "execution_count": null,
   "metadata": {},
   "outputs": [],
   "source": [
    "# Number of non-null values in each columns\n",
    "sql = \"\"\"\n",
    "  select count(RD_NO) RD_NO, count(CRASH_DATE_EST_I) CRASH_DATE_EST_I,\n",
    "         count(CRASH_DATE) CRASH_DATE, count(POSTED_SPEED_LIMIT) POSTED_SPEED_LIMIT,\n",
    "         count(TRAFFIC_CONTROL_DEVICE) TRAFFIC_CONTROL_DEVICE,\n",
    "         count(DEVICE_CONDITION) DEVICE_CONDITION, count(WEATHER_CONDITION) WEATHER_CONDITION,\n",
    "         count(LIGHTING_CONDITION) LIGHTING_CONDITION, count(FIRST_CRASH_TYPE) FIRST_CRASH_TYPE,\n",
    "         count(TRAFFICWAY_TYPE) TRAFFICWAY_TYPE, count(LANE_CNT) LANE_CNT,\n",
    "         count(ALIGNMENT) ALIGNMENT, count(ROADWAY_SURFACE_COND) ROADWAY_SURFACE_COND,\n",
    "         count(ROAD_DEFECT) ROAD_DEFECT, count(REPORT_TYPE) REPORT_TYPE,\n",
    "         count(CRASH_TYPE) CRASH_TYPE, count(INTERSECTION_RELATED_I) INTERSECTION_RELATED_I,\n",
    "         count(NOT_RIGHT_OF_WAY_I) NOT_RIGHT_OF_WAY_I, count(HIT_AND_RUN_I) HIT_AND_RUN_I,\n",
    "         count(DAMAGE) DAMAGE, count(DATE_POLICE_NOTIFIED) DATE_POLICE_NOTIFIED,\n",
    "         count(PRIM_CONTRIBUTORY_CAUSE) PRIM_CONTRIBUTORY_CAUSE, \n",
    "         count(SEC_CONTRIBUTORY_CAUSE) SEC_CONTRIBUTORY_CAUSE,\n",
    "         count(STREET_NO) STREET_NO, count(STREET_DIRECTION) STREET_DIRECTION,\n",
    "         count(STREET_NAME) STREET_NAME, count(BEAT_OF_OCCURRENCE) BEAT_OF_OCCURRENCE,\n",
    "         count(PHOTOS_TAKEN_I) PHOTOS_TAKEN_I, count(STATEMENTS_TAKEN_I) STATEMENTS_TAKEN_I,\n",
    "         count(DOORING_I) DOORING_I, count(WORK_ZONE_I) WORK_ZONE_I,\n",
    "         count(WORK_ZONE_TYPE) WORK_ZONE_TYPE, count(WORKERS_PRESENT_I) WORKERS_PRESENT_I,\n",
    "         count(NUM_UNITS) NUM_UNITS, count(MOST_SEVERE_INJURY) MOST_SEVERE_INJURY,\n",
    "         count(INJURIES_TOTAL) INJURIES_TOTAL, count(INJURIES_FATAL) INJURIES_FATAL,\n",
    "         count(INJURIES_INCAPACITATING) INJURIES_INCAPACITATING,\n",
    "         count(INJURIES_NON_INCAPACITATING) INJURIES_NON_INCAPACITATING,\n",
    "         count(INJURIES_REPORTED_NOT_EVIDENT) INJURIES_REPORTED_NOT_EVIDENT,\n",
    "         count(INJURIES_NO_INDICATION) INJURIES_NO_INDICATION,\n",
    "         count(INJURIES_UNKNOWN) INJURIES_UNKNOWN, count(CRASH_HOUR) CRASH_HOUR,\n",
    "         count(CRASH_DAY_OF_WEEK) CRASH_DAY_OF_WEEK, count(CRASH_MONTH) CRASH_MONTH,\n",
    "         count(LATITUDE) LATITUDE, count(LONGITUDE) LONGITUDE,\n",
    "         count(LOCATION_str) LOCATION_str\n",
    "  from   traffic_crashes_crashes\n",
    "\"\"\"\n",
    "data_pd = pd.read_sql(sql, pconn)\n",
    "data_pd.iloc[:,0:8].head()"
   ]
  },
  {
   "cell_type": "code",
   "execution_count": null,
   "metadata": {},
   "outputs": [],
   "source": [
    "data_pd.iloc[:,8:16].head()"
   ]
  },
  {
   "cell_type": "code",
   "execution_count": null,
   "metadata": {},
   "outputs": [],
   "source": [
    "data_pd.iloc[:,16:24].head()"
   ]
  },
  {
   "cell_type": "code",
   "execution_count": null,
   "metadata": {},
   "outputs": [],
   "source": [
    "data_pd.iloc[:,24:32].head()"
   ]
  },
  {
   "cell_type": "code",
   "execution_count": null,
   "metadata": {},
   "outputs": [],
   "source": [
    "data_pd.iloc[:,32:40].head()"
   ]
  },
  {
   "cell_type": "code",
   "execution_count": null,
   "metadata": {},
   "outputs": [],
   "source": [
    "data_pd.iloc[:,40:48].head()"
   ]
  },
  {
   "cell_type": "code",
   "execution_count": null,
   "metadata": {},
   "outputs": [],
   "source": [
    "# Look at minimum and maximum values of numerical columns\n",
    "sql = \"\"\"\n",
    "  select min(CRASH_DATE) min_CRASH_DATE, max(CRASH_DATE) max_CRASH_DATE,\n",
    "         min(DATE_POLICE_NOTIFIED) min_DATE_POLICE_NOTIFIED, max(DATE_POLICE_NOTIFIED) max_DATE_POLICE_NOTIFIED,\n",
    "         min(POSTED_SPEED_LIMIT) min_POSTED_SPEED_LIMIT, max(POSTED_SPEED_LIMIT) max_POSTED_SPEED_LIMIT,\n",
    "         min(LANE_CNT) min_LANE_CNT, max(LANE_CNT) max_LANE_CNT,\n",
    "         min(INJURIES_TOTAL) min_INJURIES_TOTAL, max(INJURIES_TOTAL) max_INJURIES_TOTAL,\n",
    "         min(INJURIES_FATAL) min_INJURIES_FATAL, max(INJURIES_FATAL) max_INJURIES_FATAL,\n",
    "         min(INJURIES_INCAPACITATING) min_INJURIES_INCAPACITATING, max(INJURIES_INCAPACITATING) max_INJURIES_INCAPACITATING,\n",
    "         min(INJURIES_NON_INCAPACITATING) min_INJURIES_NON_INCAPACITATING, \n",
    "         max(INJURIES_NON_INCAPACITATING) max_INJURIES_NON_INCAPACITATING,\n",
    "         min(INJURIES_REPORTED_NOT_EVIDENT) min_INJURIES_REPORTED_NOT_EVIDENT, \n",
    "         max(INJURIES_REPORTED_NOT_EVIDENT) max_INJURIES_REPORTED_NOT_EVIDENT,\n",
    "         min(INJURIES_NO_INDICATION) min_INJURIES_NO_INDICATION, max(INJURIES_NO_INDICATION) max_INJURIES_NO_INDICATION,\n",
    "         min(INJURIES_UNKNOWN) min_INJURIES_UNKNOWN, max(INJURIES_UNKNOWN) max_INJURIES_UNKNOWN\n",
    "  from   traffic_crashes_crashes\n",
    "\"\"\"\n",
    "data_pd = pd.read_sql(sql, pconn)\n",
    "data_pd.iloc[:,0:6].head()\n"
   ]
  },
  {
   "cell_type": "code",
   "execution_count": null,
   "metadata": {},
   "outputs": [],
   "source": [
    "data_pd.iloc[:,6:12].head()"
   ]
  },
  {
   "cell_type": "code",
   "execution_count": null,
   "metadata": {},
   "outputs": [],
   "source": [
    "data_pd.iloc[:,12:16].head()"
   ]
  },
  {
   "cell_type": "code",
   "execution_count": null,
   "metadata": {},
   "outputs": [],
   "source": [
    "data_pd.iloc[:,16:20].head()"
   ]
  },
  {
   "cell_type": "code",
   "execution_count": null,
   "metadata": {},
   "outputs": [],
   "source": [
    "data_pd.iloc[:,20:23].head()"
   ]
  },
  {
   "cell_type": "code",
   "execution_count": null,
   "metadata": {},
   "outputs": [],
   "source": [
    "sql = \"\"\"\n",
    "  select count(distinct POSTED_SPEED_LIMIT) POSTED_SPEED_LIMIT, count(distinct TRAFFIC_CONTROL_DEVICE) TRAFFIC_CONTROL_DEVICE,\n",
    "         count(distinct DEVICE_CONDITION) DEVICE_CONDITION,\n",
    "         count(distinct WEATHER_CONDITION) WEATHER_CONDITION,\n",
    "         count(distinct LIGHTING_CONDITION) LIGHTING_CONDITION, count(distinct FIRST_CRASH_TYPE) FIRST_CRASH_TYPE,\n",
    "         count(distinct TRAFFICWAY_TYPE) TRAFFICWAY_TYPE, count(distinct ALIGNMENT) ALIGNMENT,\n",
    "         count(distinct ROADWAY_SURFACE_COND) ROADWAY_SURFACE_COND, count(distinct ROAD_DEFECT) ROAD_DEFECT,\n",
    "         count(distinct REPORT_TYPE) REPORT_TYPE,\n",
    "         count(distinct CRASH_TYPE) CRASH_TYPE, count(distinct DAMAGE) DAMAGE,\n",
    "         count(distinct PRIM_CONTRIBUTORY_CAUSE) PRIM_CONTRIBUTORY_CAUSE, \n",
    "         count(distinct SEC_CONTRIBUTORY_CAUSE) SEC_CONTRIBUTORY_CAUSE\n",
    "  from   traffic_crashes_crashes\n",
    "\"\"\"\n",
    "data_pd = pd.read_sql(sql, pconn)\n",
    "data_pd.iloc[:,0:6].head(5)"
   ]
  },
  {
   "cell_type": "code",
   "execution_count": null,
   "metadata": {},
   "outputs": [],
   "source": [
    "data_pd.iloc[:,6:13].head(5)"
   ]
  },
  {
   "cell_type": "code",
   "execution_count": null,
   "metadata": {},
   "outputs": [],
   "source": [
    "data_pd.iloc[:,13:15].head(5)"
   ]
  },
  {
   "cell_type": "markdown",
   "metadata": {},
   "source": [
    "## Exploring further\n",
    "We saw earlier that the minumum CRASH DATE was 2014-01-21 and the minimum DATE_POLICE_NOTIFIED was 2015-07-25\n",
    "That indicates that there probably are some errors in the data.\n",
    "\n",
    "The POSTED_SPEED_LIMIT value has a maximum of 99. This is suspicious.\n",
    "\n",
    "There are more..."
   ]
  },
  {
   "cell_type": "code",
   "execution_count": null,
   "metadata": {},
   "outputs": [],
   "source": [
    "# DATE_POLICE_NOTIFIED should always be greater or equal to CRASH_DATE\n",
    "sql = \"\"\"\n",
    "  select RD_NO, CRASH_DATE, DATE_POLICE_NOTIFIED, (DAYS(DATE_POLICE_NOTIFIED) - Days(CRASH_DATE)) DIFF_DAYS\n",
    "  from   traffic_crashes_crashes\n",
    "  where (DAYS(DATE_POLICE_NOTIFIED) - Days(CRASH_DATE)) != 0\n",
    "\"\"\"\n",
    "data_pd = pd.read_sql(sql, pconn)\n",
    "data_pd.head(20)"
   ]
  },
  {
   "cell_type": "code",
   "execution_count": null,
   "metadata": {},
   "outputs": [],
   "source": [
    "sql = \"\"\"\n",
    "  select (DAYS(DATE_POLICE_NOTIFIED) - Days(CRASH_DATE)) DIFF_DAYS, count(*) cnt\n",
    "  from   traffic_crashes_crashes\n",
    "  group by (DAYS(DATE_POLICE_NOTIFIED) - Days(CRASH_DATE))\n",
    "  order by (DAYS(DATE_POLICE_NOTIFIED) - Days(CRASH_DATE)) desc\n",
    "  limit 20\n",
    "\"\"\"\n",
    "data_pd = pd.read_sql(sql, pconn)\n",
    "data_pd.head(20)"
   ]
  },
  {
   "cell_type": "code",
   "execution_count": null,
   "metadata": {},
   "outputs": [],
   "source": [
    "sql = \"\"\"\n",
    "  select count(*) cnt\n",
    "  from   traffic_crashes_crashes\n",
    "  where (DAYS(DATE_POLICE_NOTIFIED) - Days(CRASH_DATE)) > 0 \n",
    "\"\"\"\n",
    "data_pd = pd.read_sql(sql, pconn)\n",
    "data_pd.head(5)"
   ]
  },
  {
   "cell_type": "markdown",
   "metadata": {},
   "source": [
    "## POSTED_SPEED_LIMIT"
   ]
  },
  {
   "cell_type": "code",
   "execution_count": null,
   "metadata": {},
   "outputs": [],
   "source": []
  },
  {
   "cell_type": "code",
   "execution_count": null,
   "metadata": {},
   "outputs": [],
   "source": [
    "sql = \"\"\"\n",
    "  select POSTED_SPEED_LIMIT, count(POSTED_SPEED_LIMIT) TOTAL\n",
    "  from   traffic_crashes_crashes\n",
    "  group by POSTED_SPEED_LIMIT\n",
    "  order by POSTED_SPEED_LIMIT Desc\n",
    "\"\"\"\n",
    "data_pd = pd.read_sql(sql, pconn)\n",
    "data_pd.head(40)"
   ]
  },
  {
   "cell_type": "markdown",
   "metadata": {},
   "source": [
    "## Look at the distinct values\n",
    "How relevant are the distinct values?"
   ]
  },
  {
   "cell_type": "code",
   "execution_count": null,
   "metadata": {},
   "outputs": [],
   "source": [
    "sql = \"\"\"\n",
    "  select  TRAFFIC_CONTROL_DEVICE, count(TRAFFIC_CONTROL_DEVICE) TOTAL\n",
    "  from    traffic_crashes_crashes\n",
    "  group by TRAFFIC_CONTROL_DEVICE\n",
    "  order by TOTAL desc\n",
    "\"\"\"\n",
    "data_pd = pd.read_sql(sql, pconn)\n",
    "data_pd.head(20)"
   ]
  },
  {
   "cell_type": "code",
   "execution_count": null,
   "metadata": {},
   "outputs": [],
   "source": [
    "sql = \"\"\"\n",
    "  select   DEVICE_CONDITION, count(DEVICE_CONDITION) TOTAL\n",
    "  from     traffic_crashes_crashes\n",
    "  group by DEVICE_CONDITION\n",
    "  order by TOTAL desc\n",
    "\"\"\"\n",
    "data_pd = pd.read_sql(sql, pconn)\n",
    "data_pd.head(20)"
   ]
  },
  {
   "cell_type": "code",
   "execution_count": null,
   "metadata": {},
   "outputs": [],
   "source": [
    "sql = \"\"\"\n",
    "  select WEATHER_CONDITION, count(WEATHER_CONDITION) TOTAL\n",
    "  from   traffic_crashes_crashes\n",
    "  group by WEATHER_CONDITION\n",
    "  order by TOTAL desc\n",
    "\"\"\"\n",
    "data_pd = pd.read_sql(sql, pconn)\n",
    "data_pd.head(20)"
   ]
  },
  {
   "cell_type": "code",
   "execution_count": null,
   "metadata": {},
   "outputs": [],
   "source": [
    "sql = \"\"\"\n",
    "  select LIGHTING_CONDITION, count(LIGHTING_CONDITION) TOTAL\n",
    "  from   traffic_crashes_crashes\n",
    "  group by LIGHTING_CONDITION\n",
    "  order by TOTAL desc\n",
    "\"\"\"\n",
    "data_pd = pd.read_sql(sql, pconn)\n",
    "data_pd.head(20)"
   ]
  },
  {
   "cell_type": "code",
   "execution_count": null,
   "metadata": {},
   "outputs": [],
   "source": [
    "sql = \"\"\"\n",
    "  select FIRST_CRASH_TYPE, count(FIRST_CRASH_TYPE) TOTAL\n",
    "  from   traffic_crashes_crashes\n",
    "  group by FIRST_CRASH_TYPE\n",
    "  order by TOTAL desc\n",
    "\"\"\"\n",
    "data_pd = pd.read_sql(sql, pconn)\n",
    "data_pd.head(20)"
   ]
  },
  {
   "cell_type": "code",
   "execution_count": null,
   "metadata": {},
   "outputs": [],
   "source": [
    "sql = \"\"\"\n",
    "  select TRAFFICWAY_TYPE, count(TRAFFICWAY_TYPE) TOTAL\n",
    "  from   traffic_crashes_crashes\n",
    "  group by TRAFFICWAY_TYPE\n",
    "  order by TOTAL desc\n",
    "\"\"\"\n",
    "data_pd = pd.read_sql(sql, pconn)\n",
    "data_pd.head(20)"
   ]
  },
  {
   "cell_type": "code",
   "execution_count": null,
   "metadata": {},
   "outputs": [],
   "source": [
    "sql = \"\"\"\n",
    "  select ALIGNMENT, count(ALIGNMENT) TOTAL\n",
    "  from   traffic_crashes_crashes\n",
    "  group by ALIGNMENT\n",
    "  order by TOTAL desc\n",
    "\"\"\"\n",
    "data_pd = pd.read_sql(sql, pconn)\n",
    "data_pd.head(20)"
   ]
  },
  {
   "cell_type": "code",
   "execution_count": null,
   "metadata": {},
   "outputs": [],
   "source": [
    "sql = \"\"\"\n",
    "  select ROADWAY_SURFACE_COND, count(ROADWAY_SURFACE_COND) TOTAL\n",
    "  from   traffic_crashes_crashes\n",
    "  group by ROADWAY_SURFACE_COND\n",
    "  order by TOTAL desc\n",
    "\"\"\"\n",
    "data_pd = pd.read_sql(sql, pconn)\n",
    "data_pd.head(20)"
   ]
  },
  {
   "cell_type": "code",
   "execution_count": null,
   "metadata": {},
   "outputs": [],
   "source": [
    "sql = \"\"\"\n",
    "  select ROAD_DEFECT, count(ROAD_DEFECT) TOTAL\n",
    "  from   traffic_crashes_crashes\n",
    "  group by ROAD_DEFECT\n",
    "  order by TOTAL desc\n",
    "\"\"\"\n",
    "data_pd = pd.read_sql(sql, pconn)\n",
    "data_pd.head(20)"
   ]
  },
  {
   "cell_type": "code",
   "execution_count": null,
   "metadata": {},
   "outputs": [],
   "source": [
    "sql = \"\"\"\n",
    "  select REPORT_TYPE, count(REPORT_TYPE) TOTAL\n",
    "  from   traffic_crashes_crashes\n",
    "  group by REPORT_TYPE\n",
    "  order by TOTAL desc\n",
    "\"\"\"\n",
    "data_pd = pd.read_sql(sql, pconn)\n",
    "data_pd.head(20)"
   ]
  },
  {
   "cell_type": "code",
   "execution_count": null,
   "metadata": {},
   "outputs": [],
   "source": [
    "sql = \"\"\"\n",
    "  select CRASH_TYPE, count(CRASH_TYPE) TOTAL\n",
    "  from   traffic_crashes_crashes\n",
    "  group by CRASH_TYPE\n",
    "  order by TOTAL desc\n",
    "\"\"\"\n",
    "data_pd = pd.read_sql(sql, pconn)\n",
    "data_pd.head(20)"
   ]
  },
  {
   "cell_type": "markdown",
   "metadata": {},
   "source": [
    "## Count accidents, accidents with injuries, accidents with casualties"
   ]
  },
  {
   "cell_type": "code",
   "execution_count": null,
   "metadata": {},
   "outputs": [],
   "source": [
    "sql = \"\"\"\n",
    "  select count(*) all_accidents, \n",
    "         sum(INJURIES_TOTAL > 0) accidents_with_injuries, \n",
    "         sum(INJURIES_FATAL > 0) accidents_with_fatalities\n",
    "  from   traffic_crashes_crashes\n",
    "  where longitude is not null\n",
    "  and latitude is not null\n",
    "\"\"\"\n",
    "data_pd = pd.read_sql(sql, pconn)\n",
    "data_pd.head(20)\n"
   ]
  },
  {
   "cell_type": "markdown",
   "metadata": {},
   "source": [
    "## Visualization"
   ]
  },
  {
   "cell_type": "code",
   "execution_count": null,
   "metadata": {},
   "outputs": [],
   "source": [
    "import pandas as pd\n",
    "import numpy as np\n",
    "import seaborn as sns\n",
    "\n",
    "import matplotlib.pyplot as plt\n",
    "# matplotlib.patches lets us create colored patches, which we can use for legends in plots\n",
    "import matplotlib.patches as mpatches\n",
    "# seaborn also builds on matplotlib and adds graphical features and new plot types\n",
    "# adjust settings\n",
    "# The inline statement insures that the plot will show in the cell output. Look at the documentation for more information\n",
    "%matplotlib inline\n",
    "sns.set_style(\"white\")\n",
    "plt.rcParams['figure.figsize'] = (15, 15)"
   ]
  },
  {
   "cell_type": "markdown",
   "metadata": {},
   "source": [
    "### Grouping accidents\n",
    "First by street for 3 categories:\n",
    "- All accidents\n",
    "- Accidents with injuries\n",
    "- Accidents with fatalities"
   ]
  },
  {
   "cell_type": "code",
   "execution_count": null,
   "metadata": {},
   "outputs": [],
   "source": [
    "# Plot the top 15 streets by accident count\n",
    "plt.figure(figsize=(8,5))\n",
    "sql = \"\"\"\n",
    "  select STREET_NAME, count(*) CNT\n",
    "  from   traffic_crashes_crashes\n",
    "  group by STREET_NAME\n",
    "  order by CNT desc\n",
    "  limit 15\n",
    "\"\"\"\n",
    "streets = pd.read_sql(sql, pconn)\n",
    "colors = ['g','0.75','y','k','b','r']\n",
    "streets.sort_values(by='CNT', ascending=False)['CNT'].plot.barh(color=colors)\n",
    "plt.xlabel('Collisions')\n",
    "plt.ylabel('Street')\n",
    "plt.title('Total Number of Collisions by Street', size=15)\n",
    "plt.yticks(range(0,15),streets['STREET_NAME'])\n",
    "plt.tight_layout()\n",
    "plt.show()"
   ]
  },
  {
   "cell_type": "code",
   "execution_count": null,
   "metadata": {},
   "outputs": [],
   "source": [
    "plt.figure(figsize=(8,5))\n",
    "sql = \"\"\"\n",
    "  select STREET_NAME, count(*) CNT\n",
    "  from   traffic_crashes_crashes\n",
    "  where INJURIES_TOTAL > 0\n",
    "  group by STREET_NAME\n",
    "  order by CNT desc\n",
    "  limit 15\n",
    "\"\"\"\n",
    "streets = pd.read_sql(sql, pconn)\n",
    "colors = ['g','0.75','y','k','b','r']\n",
    "streets.sort_values(by='CNT', ascending=False)['CNT'].plot.barh(color=colors)\n",
    "plt.xlabel('Collisions')\n",
    "plt.ylabel('Street')\n",
    "plt.title('Total Number of injuries accidents by Street', size=15)\n",
    "plt.yticks(range(0,15),streets['STREET_NAME'])\n",
    "plt.tight_layout()\n",
    "plt.show()\n"
   ]
  },
  {
   "cell_type": "code",
   "execution_count": null,
   "metadata": {},
   "outputs": [],
   "source": [
    "plt.figure(figsize=(8,5))\n",
    "sql = \"\"\"\n",
    "  select STREET_NAME, count(*) CNT\n",
    "  from   traffic_crashes_crashes\n",
    "  where INJURIES_FATAL > 0\n",
    "  group by STREET_NAME\n",
    "  order by CNT desc\n",
    "  limit 15\n",
    "\"\"\"\n",
    "streets = pd.read_sql(sql, pconn)\n",
    "colors = ['g','0.75','y','k','b','r']\n",
    "streets.sort_values(by='CNT', ascending=False)['CNT'].plot.barh(color=colors)\n",
    "plt.xlabel('Collisions')\n",
    "plt.ylabel('Street')\n",
    "plt.title('Total Number of Fatal accidents by Street', size=15)\n",
    "plt.yticks(range(0,15),streets['STREET_NAME'])\n",
    "plt.tight_layout()\n",
    "plt.show()"
   ]
  },
  {
   "cell_type": "markdown",
   "metadata": {},
   "source": [
    "### Accidents by month, day of the week\n",
    "See example code at: http://benalexkeen.com/bar-charts-in-matplotlib/"
   ]
  },
  {
   "cell_type": "code",
   "execution_count": null,
   "metadata": {},
   "outputs": [],
   "source": [
    "plt.figure(figsize=(8,5))\n",
    "sql = \"\"\"\n",
    "  select CRASH_MONTH, count(*) CNT\n",
    "  from   traffic_crashes_crashes\n",
    "  group by CRASH_MONTH\n",
    "  order by CRASH_MONTH desc\n",
    "\"\"\"\n",
    "byMonth = pd.read_sql(sql, pconn)\n",
    "colors = ['g','0.75','y','k','b','r']\n",
    "byMonth.sort_values(by='CRASH_MONTH', ascending=False)['CNT'].plot.barh(color=colors)\n",
    "plt.xlabel('Collisions')\n",
    "plt.ylabel('month')\n",
    "plt.title('Total Number of Collisions by month', size=15)\n",
    "plt.yticks(range(0,12),byMonth['CRASH_MONTH'])\n",
    "plt.tight_layout()\n",
    "plt.show()"
   ]
  },
  {
   "cell_type": "code",
   "execution_count": null,
   "metadata": {},
   "outputs": [],
   "source": [
    "plt.figure(figsize=(8,5))\n",
    "sql = \"\"\"\n",
    "  select CRASH_DAY_OF_WEEK, count(*) CNT\n",
    "  from   traffic_crashes_crashes\n",
    "  group by CRASH_DAY_OF_WEEK\n",
    "  order by CRASH_DAY_OF_WEEK desc\n",
    "\"\"\"\n",
    "byDay = pd.read_sql(sql, pconn)\n",
    "\n",
    "\n",
    "# byDay = collisions_df.groupBy('CRASH_DAY_OF_WEEK').count().sort('CRASH_DAY_OF_WEEK',ascending=False).toPandas()\n",
    "colors = ['g','0.75','y','k','b','r']\n",
    "byDay.sort_values(by='CRASH_DAY_OF_WEEK', ascending=False)['CNT'].plot.barh(color=colors)\n",
    "plt.xlabel('Collisions')\n",
    "plt.ylabel('day')\n",
    "plt.title('Total Number of Collisions by Day of the week', size=15)\n",
    "plt.yticks(range(0,7),byDay['CRASH_DAY_OF_WEEK'])\n",
    "plt.tight_layout()\n",
    "plt.show()"
   ]
  },
  {
   "cell_type": "code",
   "execution_count": null,
   "metadata": {},
   "outputs": [],
   "source": [
    "plt.figure(figsize=(8,5))\n",
    "\n",
    "sql = \"\"\"\n",
    "  select CRASH_HOUR, count(*) CNT\n",
    "  from   traffic_crashes_crashes\n",
    "  group by CRASH_HOUR\n",
    "  order by CRASH_HOUR desc\n",
    "\"\"\"\n",
    "byHour = pd.read_sql(sql, pconn)\n",
    "\n",
    "\n",
    "# byHour = collisions_df.groupBy('CRASH_HOUR').count().sort('CRASH_HOUR',ascending=False).toPandas()\n",
    "colors = ['g','0.75','y','k','b','r']\n",
    "byHour.sort_values(by='CRASH_HOUR', ascending=False)['CNT'].plot.barh(color=colors)\n",
    "plt.xlabel('Collisions')\n",
    "plt.ylabel('hour')\n",
    "plt.title('Total Number of Collisions by hour of the day', size=15)\n",
    "plt.yticks(range(0,24),byHour['CRASH_HOUR'])\n",
    "plt.tight_layout()\n",
    "plt.show()"
   ]
  },
  {
   "cell_type": "markdown",
   "metadata": {},
   "source": [
    "## Prep Data for plotting"
   ]
  },
  {
   "cell_type": "code",
   "execution_count": null,
   "metadata": {},
   "outputs": [],
   "source": [
    "sql = \"\"\"\n",
    "  select longitude, latitude\n",
    "  from   traffic_crashes_crashes\n",
    "  where latitude != 0\n",
    "\"\"\"\n",
    "collisions_pd = pd.read_sql(sql, pconn)\n",
    "\n",
    "sql = \"\"\"\n",
    "  select longitude, latitude\n",
    "  from   traffic_crashes_crashes\n",
    "  where latitude != 0\n",
    "  and INJURIES_FATAL > 0\n",
    "\"\"\"\n",
    "killed_pd = pd.read_sql(sql, pconn)\n",
    "\n",
    "sql = \"\"\"\n",
    "  select longitude, latitude\n",
    "  from   traffic_crashes_crashes\n",
    "  where latitude != 0\n",
    "  and INJURIES_TOTAL > 0\n",
    "  and INJURIES_FATAL = 0\n",
    "\"\"\"\n",
    "injured_pd = pd.read_sql(sql, pconn)\n",
    "\n",
    "sql = \"\"\"\n",
    "  select longitude, latitude\n",
    "  from   traffic_crashes_crashes\n",
    "  where latitude != 0\n",
    "  and INJURIES_TOTAL = 0\n",
    "  and INJURIES_FATAL = 0\n",
    "\"\"\"\n",
    "nothing_pd = pd.read_sql(sql, pconn)\n"
   ]
  },
  {
   "cell_type": "markdown",
   "metadata": {},
   "source": [
    "## Plot the accidents using longitude/latitude\n",
    "This is not a map but a graphical representation of the accidents related to longitude and latitude.\n",
    "\n",
    "We got the limits for longitude and latitude earlier and plug them into the xlim/ylim values."
   ]
  },
  {
   "cell_type": "code",
   "execution_count": null,
   "metadata": {},
   "outputs": [],
   "source": [
    "#create scatterplots\n",
    "plt.figure(figsize=(15,10))\n",
    "plt.scatter(collisions_pd.LONGITUDE, collisions_pd.LATITUDE, alpha=0.05, s=4, color='darkseagreen')\n",
    "\n",
    "#adjust more settings\n",
    "plt.title('Motor Vehicle Collisions in Chicago', size=25)\n",
    "plt.xlim((-87.92,-87.52))\n",
    "plt.ylim((41.64,42.03))\n",
    "plt.xlabel('Longitude',size=20)\n",
    "plt.ylabel('Latitude',size=20)\n",
    "\n",
    "plt.show()"
   ]
  },
  {
   "cell_type": "markdown",
   "metadata": {},
   "source": [
    "## Enhance the scatter plot to identify the accidents severity\n",
    "We draw from Pandas DataFrames we created earlier to plot the severity in different color"
   ]
  },
  {
   "cell_type": "code",
   "execution_count": null,
   "metadata": {},
   "outputs": [],
   "source": [
    "#adjust settings\n",
    "plt.figure(figsize=(15,10))\n",
    "\n",
    "#create scatterplots\n",
    "plt.scatter(nothing_pd.LONGITUDE, nothing_pd.LATITUDE, alpha=0.04, s=1, color='blue')\n",
    "plt.scatter(injured_pd.LONGITUDE, injured_pd.LATITUDE, alpha=0.1, s=1, color='yellow')\n",
    "plt.scatter(killed_pd.LONGITUDE, killed_pd.LATITUDE, color='red', s=5)\n",
    "\n",
    "#create legend\n",
    "blue_patch = mpatches.Patch( label='car body damage', alpha=0.2, color='blue')\n",
    "yellow_patch = mpatches.Patch(color='yellow', label='personal injury', alpha=0.5)\n",
    "red_patch = mpatches.Patch(color='red', label='lethal accidents')\n",
    "plt.legend([blue_patch, yellow_patch, red_patch],('car body damage', 'personal injury', 'fatal accidents'), \n",
    "           loc='upper left', prop={'size':20})\n",
    "\n",
    "#adjust more settings\n",
    "plt.title('Severity of Motor Vehicle Collisions in Chicago', size=20)\n",
    "plt.xlim((-87.92,-87.52))\n",
    "plt.ylim((41.64,42.03))\n",
    "plt.xlabel('Longitude',size=20)\n",
    "plt.ylabel('Latitude',size=20)\n",
    "plt.savefig('anothertry.png')\n",
    "\n",
    "plt.show()"
   ]
  },
  {
   "cell_type": "markdown",
   "metadata": {},
   "source": [
    "## Visualize the 10 streets with the most collisions"
   ]
  },
  {
   "cell_type": "code",
   "execution_count": null,
   "metadata": {},
   "outputs": [],
   "source": [
    "sql = \"\"\"\n",
    "  select STREET_NAME, longitude, latitude\n",
    "  from   traffic_crashes_crashes\n",
    "  where  latitude != 0    \n",
    "\"\"\"\n",
    "data1 = pd.read_sql(sql, pconn)\n",
    "\n",
    "sql = \"\"\"\n",
    "  select STREET_NAME, count(*)\n",
    "  from   traffic_crashes_crashes\n",
    "  where  latitude != 0\n",
    "  group by STREET_NAME\n",
    "  order by count(*) desc\n",
    "  limit 10\n",
    "\"\"\"\n",
    "street_names = pd.read_sql(sql, pconn)['STREET_NAME']\n",
    "\n",
    "\n",
    "collisions1 = data1[data1['STREET_NAME']==street_names[0]]\n",
    "collisions2 = data1[data1['STREET_NAME']==street_names[1]]\n",
    "collisions3 = data1[data1['STREET_NAME']==street_names[2]]\n",
    "collisions4 = data1[data1['STREET_NAME']==street_names[3]]\n",
    "collisions5 = data1[data1['STREET_NAME']==street_names[4]]\n",
    "collisions6 = data1[data1['STREET_NAME']==street_names[5]]\n",
    "collisions7 = data1[data1['STREET_NAME']==street_names[6]]\n",
    "collisions8 = data1[data1['STREET_NAME']==street_names[7]]\n",
    "collisions9 = data1[data1['STREET_NAME']==street_names[8]]\n",
    "collisions10 = data1[data1['STREET_NAME']==street_names[9]]\n",
    "\n",
    "#create scatterplots\n",
    "plt.figure(figsize=(15,10))\n",
    "plt.scatter(data1.LONGITUDE, data1.LATITUDE, s=1, color='darkseagreen')\n",
    "plt.scatter(collisions1.LONGITUDE, collisions1.LATITUDE, s=2, color='red')\n",
    "plt.scatter(collisions2.LONGITUDE, collisions2.LATITUDE, color='blue', s=2)\n",
    "plt.scatter(collisions3.LONGITUDE, collisions3.LATITUDE, s=2, color='magenta')\n",
    "plt.scatter(collisions4.LONGITUDE, collisions4.LATITUDE, color='orange', s=2)\n",
    "plt.scatter(collisions5.LONGITUDE, collisions5.LATITUDE, s=2, color='yellow')\n",
    "plt.scatter(collisions6.LONGITUDE, collisions6.LATITUDE, color='purple', s=2)\n",
    "plt.scatter(collisions7.LONGITUDE, collisions7.LATITUDE, s=2, color='black')\n",
    "plt.scatter(collisions8.LONGITUDE, collisions8.LATITUDE, color='chartreuse', s=2)\n",
    "plt.scatter(collisions9.LONGITUDE, collisions9.LATITUDE, s=2, color='brown')\n",
    "plt.scatter(collisions10.LONGITUDE, collisions10.LATITUDE, color='darkgreen', s=2)\n",
    "\n",
    "\n",
    "#create legend\n",
    "a_patch = mpatches.Patch(color='red', label=street_names[0])\n",
    "b_patch = mpatches.Patch(color='blue', label=street_names[1])\n",
    "c_patch = mpatches.Patch(color='magenta', label=street_names[2])\n",
    "d_patch = mpatches.Patch(color='orange', label=street_names[3])\n",
    "e_patch = mpatches.Patch(color='yellow', label=street_names[4])\n",
    "f_patch = mpatches.Patch(color='purple', label=street_names[5])\n",
    "g_patch = mpatches.Patch(color='black', label=street_names[6])\n",
    "h_patch = mpatches.Patch(color='chartreuse', label=street_names[7])\n",
    "i_patch = mpatches.Patch(color='brown', label=street_names[8])\n",
    "j_patch = mpatches.Patch(color='darkgreen', label=street_names[9])\n",
    "\n",
    "plt.legend([a_patch, b_patch, c_patch, d_patch, e_patch, f_patch, g_patch, h_patch, i_patch, j_patch],\n",
    "            (street_names[0],street_names[1],street_names[2],street_names[3],street_names[4],\n",
    "             street_names[5],street_names[6],street_names[7],street_names[8],street_names[9]),\n",
    "           loc='upper left', prop={'size':12})\n",
    "\n",
    "#adjust more settings\n",
    "plt.title('Vehicle Collisions in Chicago', size=25)\n",
    "plt.xlim((-87.92,-87.52))\n",
    "plt.ylim((41.64,42.03))\n",
    "plt.xlabel('Longitude',size=20)\n",
    "plt.ylabel('Latitude',size=20)\n",
    "plt.show()"
   ]
  },
  {
   "cell_type": "markdown",
   "metadata": {},
   "source": [
    "## Using K-Means to find hot spots\n",
    "We are using K-means to find the center of groupings of accidents.\n",
    "\n",
    "The process is as follows:\n",
    "\n",
    "We extract the longitude and latitude of all accidents\n",
    "We create a model (for, arbitrarily, 10 clusters)\n",
    "We extract the centers and convert them to a Panda DataFrame\n",
    "We display the result on a map using pixiedust"
   ]
  },
  {
   "cell_type": "code",
   "execution_count": null,
   "metadata": {},
   "outputs": [],
   "source": [
    "# Create dataframes for all accidents, accidents with injuries and accidents with fatalities\n",
    "sql = \"\"\"\n",
    "  select INJURIES_TOTAL, INJURIES_FATAL, longitude, latitude\n",
    "  from   traffic_crashes_crashes\n",
    "  where  latitude is not null \n",
    "\"\"\"\n",
    "data_pd = pd.read_sql(sql, pconn)\n",
    "\n",
    "data_injuries_pd = data_pd[data_pd['INJURIES_TOTAL'] > 0]\n",
    "data_fatal_pd = data_pd[data_pd['INJURIES_FATAL'] > 0]"
   ]
  },
  {
   "cell_type": "code",
   "execution_count": null,
   "metadata": {},
   "outputs": [],
   "source": [
    "import matplotlib.pyplot as plt\n",
    "from sklearn import datasets\n",
    "from sklearn.cluster import KMeans\n",
    "import sklearn.metrics as sm\n",
    "\n",
    "%matplotlib inline"
   ]
  },
  {
   "cell_type": "code",
   "execution_count": null,
   "metadata": {},
   "outputs": [],
   "source": [
    "# K Means Cluster\n",
    "k=10\n",
    "model = KMeans(n_clusters=k)\n",
    "kmeans = model.fit(data_pd[['LONGITUDE','LATITUDE']])\n",
    "vals=[0] * k\n",
    "for i in kmeans.labels_ :\n",
    "    vals[i] = vals[i] + 1"
   ]
  },
  {
   "cell_type": "code",
   "execution_count": null,
   "metadata": {},
   "outputs": [],
   "source": [
    "# Create a Panda dataframe for display\n",
    "d = {'longitude': kmeans.cluster_centers_[:,0], 'latitude': kmeans.cluster_centers_[:,1], 'total' : vals}\n",
    "k_pd = pd.DataFrame(data=d)"
   ]
  },
  {
   "cell_type": "code",
   "execution_count": null,
   "metadata": {
    "pixiedust": {
     "displayParams": {
      "basemap": "outdoors-v9",
      "coloropacity": "90",
      "colorrampname": "Orange to Purple",
      "handlerId": "mapView",
      "keyFields": "latitude,longitude",
      "mapboxtoken": "pk.eyJ1IjoibWFwYm94IiwiYSI6ImNpejY4M29iazA2Z2gycXA4N2pmbDZmangifQ.-g_vE53SD2WrJ6tFX7QHmA",
      "valueFields": "total"
     }
    }
   },
   "outputs": [],
   "source": [
    "display(k_pd)"
   ]
  },
  {
   "cell_type": "markdown",
   "metadata": {},
   "source": [
    "## K-Means for accidents with fatalities"
   ]
  },
  {
   "cell_type": "code",
   "execution_count": null,
   "metadata": {},
   "outputs": [],
   "source": [
    "# K Means Cluster\n",
    "k=10\n",
    "model = KMeans(n_clusters=k)\n",
    "kmeans = model.fit(data_fatal_pd[['LONGITUDE','LATITUDE']])\n",
    "vals=[0] * k\n",
    "for i in kmeans.labels_ :\n",
    "    vals[i] = vals[i] + 1"
   ]
  },
  {
   "cell_type": "code",
   "execution_count": null,
   "metadata": {},
   "outputs": [],
   "source": [
    "# Create a Panda dataframe for display\n",
    "d2 = {'longitude': kmeans.cluster_centers_[:,0], 'latitude': kmeans.cluster_centers_[:,1], 'total' : vals}\n",
    "k2_pd = pd.DataFrame(data=d2)"
   ]
  },
  {
   "cell_type": "code",
   "execution_count": null,
   "metadata": {
    "pixiedust": {
     "displayParams": {
      "coloropacity": "90",
      "colorrampname": "Green to Purple",
      "handlerId": "mapView",
      "keyFields": "latitude,longitude",
      "mapboxtoken": "pk.eyJ1IjoibWFwYm94IiwiYSI6ImNpejY4M29iazA2Z2gycXA4N2pmbDZmangifQ.-g_vE53SD2WrJ6tFX7QHmA",
      "valueFields": "total"
     }
    }
   },
   "outputs": [],
   "source": [
    "display(k2_pd)"
   ]
  },
  {
   "cell_type": "code",
   "execution_count": null,
   "metadata": {},
   "outputs": [],
   "source": []
  }
 ],
 "metadata": {
  "kernelspec": {
   "display_name": "Python 3.6",
   "language": "python",
   "name": "python3"
  },
  "language_info": {
   "codemirror_mode": {
    "name": "ipython",
    "version": 3
   },
   "file_extension": ".py",
   "mimetype": "text/x-python",
   "name": "python",
   "nbconvert_exporter": "python",
   "pygments_lexer": "ipython3",
   "version": "3.6.8"
  }
 },
 "nbformat": 4,
 "nbformat_minor": 1
}

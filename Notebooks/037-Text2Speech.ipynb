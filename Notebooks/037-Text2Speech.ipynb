{
 "cells": [
  {
   "cell_type": "markdown",
   "metadata": {},
   "source": [
    "<IMG SRC=\"https://github.com/jacquesroy/byte-size-data-science/raw/master/images/Banner.png\" ALT=\"BSDS Banner\" WIDTH=1195 HEIGHT=200>"
   ]
  },
  {
   "cell_type": "markdown",
   "metadata": {
    "collapsed": true
   },
   "source": [
    "## Text to speech\n",
    "Try text to text-to-speech Watson Service\n",
    "\n",
    "You need to replace the next cell with the proper Cloud Object Storage (COS) credentials.<br/>\n",
    "The easiest is to simply insert the credentials from an existing file."
   ]
  },
  {
   "cell_type": "markdown",
   "metadata": {},
   "source": [
    "### 037-Models as a service\n",
    "Execute the next cell if you want to see the `Byte Size Data Science` youtube channel video"
   ]
  },
  {
   "cell_type": "code",
   "execution_count": null,
   "metadata": {},
   "outputs": [],
   "source": [
    "from IPython.display import IFrame\n",
    "\n",
    "IFrame(src=\"https://www.youtube.com/embed/OOVNluzUvu4?rel=0&amp;controls=0&amp;showinfo=0\", width=560, height=315)\n"
   ]
  },
  {
   "cell_type": "code",
   "execution_count": null,
   "metadata": {},
   "outputs": [],
   "source": [
    "# COS credentials\n",
    "# The easiest would be to get them from an existing file\n",
    "\n",
    "# @hidden_cell\n",
    "# The following code contains the credentials for a file in your IBM Cloud Object Storage.\n",
    "# You might want to remove those credentials before you share your notebook.\n",
    "credentials = {\n",
    "    'IAM_SERVICE_ID': 'iam-ServiceId-12345678-cd61-1234-1234-38b10084d177',\n",
    "    'IBM_API_KEY_ID': '9OBEPHS0jj5qabcdefg-US8klmnopqFtRkeH6njgVaar',\n",
    "    'ENDPOINT': 'https://s3-api.us-geo.objectstorage.service.networklayer.com',\n",
    "    'IBM_AUTH_ENDPOINT': 'https://iam.bluemix.net/oidc/token',\n",
    "    'BUCKET': 'bscstesting-kn'\n",
    "}\n"
   ]
  },
  {
   "cell_type": "code",
   "execution_count": null,
   "metadata": {},
   "outputs": [],
   "source": [
    "# IBM COS interface\n",
    "import sys\n",
    "import types\n",
    "import pandas as pd\n",
    "from botocore.client import Config\n",
    "import ibm_boto3\n",
    "\n",
    "def __iter__(self): return 0\n",
    "\n",
    "# need to figure out the bucket by looking at the service\n",
    "# the bucket name starts with the project name\n",
    "\n",
    "# @hidden_cell\n",
    "# The following code accesses a file in your IBM Cloud Object Storage. It includes your credentials.\n",
    "# You might want to remove those credentials before you share your notebook.\n",
    "cos = ibm_boto3.client(service_name='s3',\n",
    "    ibm_api_key_id=credentials[\"IBM_API_KEY_ID\"],\n",
    "    ibm_auth_endpoint=credentials['IBM_AUTH_ENDPOINT'],\n",
    "    config=Config(signature_version='oauth'),\n",
    "    endpoint_url=credentials['ENDPOINT'])\n",
    "\n",
    "Bucket=credentials[\"BUCKET\"]"
   ]
  },
  {
   "cell_type": "markdown",
   "metadata": {},
   "source": [
    "## Install the Watsn API"
   ]
  },
  {
   "cell_type": "code",
   "execution_count": null,
   "metadata": {},
   "outputs": [],
   "source": [
    "!pip install --upgrade \"ibm-watson>=3.0.4\""
   ]
  },
  {
   "cell_type": "markdown",
   "metadata": {},
   "source": [
    "## Getting a language translator connection\n",
    "Once the text to voice service is created, make sure to create the credentials and insert the values in the next cell.\n",
    "\n",
    "* Text-to-speech documentation: https://console.bluemix.net/docs/services/text-to-speech\n",
    "* Api reference: https://www.ibm.com/watson/developercloud/text-to-speech/api"
   ]
  },
  {
   "cell_type": "code",
   "execution_count": null,
   "metadata": {},
   "outputs": [],
   "source": [
    "t2s_credentials = {\n",
    "  \"apikey\": \"2pNxBu3UVaPe402-bBnMoLJtsevhqGMNw7Uu5TQaHaLx\",\n",
    "  \"iam_apikey_description\": \"Auto-generated for key 2301ef1f-27eb-4dd7-b9aa-454d25c71b76\",\n",
    "  \"iam_apikey_name\": \"wdp-writer\",\n",
    "  \"iam_role_crn\": \"crn:v1:bluemix:public:iam::::serviceRole:Writer\",\n",
    "  \"iam_serviceid_crn\": \"crn:v1:bluemix:public:iam-identity::a/e46675b7f1bf89b09b5badfb3bd4a7b5::serviceid:ServiceId-bae88031-022b-4e95-8539-fc0e9ff1b8a9\",\n",
    "  \"url\": \"https://stream.watsonplatform.net/text-to-speech/api\"\n",
    "}"
   ]
  },
  {
   "cell_type": "code",
   "execution_count": null,
   "metadata": {},
   "outputs": [],
   "source": [
    "# create the basic header\n",
    "#import urllib3, requests, json\n",
    "\n",
    "#t2s_headers = urllib3.util.make_headers(\n",
    "#    basic_auth='{username}:{password}'.format(username=t2s_credentials['username'], \n",
    "#                                              password=t2s_credentials['password'])\n",
    "#)\n",
    "import json\n",
    "from ibm_watson import TextToSpeechV1\n",
    "\n",
    "text2speech = TextToSpeechV1(\n",
    "    iam_apikey=t2s_credentials['apikey'],\n",
    "    url=t2s_credentials['url']\n",
    ")\n"
   ]
  },
  {
   "cell_type": "markdown",
   "metadata": {},
   "source": [
    "## Available voices\n",
    "Watson text to voice has multiple voices in multiple languages.<br/>\n",
    "The next cell displays all the available voices. Make sure to pick on that fits the language of the text."
   ]
  },
  {
   "cell_type": "code",
   "execution_count": null,
   "metadata": {},
   "outputs": [],
   "source": [
    "voices = text2speech.list_voices().get_result()\n",
    "print(json.dumps(voices, indent=2))"
   ]
  },
  {
   "cell_type": "code",
   "execution_count": null,
   "metadata": {},
   "outputs": [],
   "source": [
    "t2s_url = '{}/v1/voices'.format(t2s_credentials['url'])\n",
    "t2s_response = requests.get(t2s_url, headers=t2s_headers)\n",
    "# mltoken = json.loads(t2s_response.text).get('token')\n",
    "\n",
    "# header = {'Content-Type': 'application/json', 'Authorization': 'Bearer ' + mltoken}\n",
    "t2s_doc = json.loads(t2s_response.text)\n",
    "print (json.dumps(t2s_doc, indent=2, sort_keys=True))"
   ]
  },
  {
   "cell_type": "markdown",
   "metadata": {},
   "source": [
    "## Convert some text"
   ]
  },
  {
   "cell_type": "code",
   "execution_count": null,
   "metadata": {},
   "outputs": [],
   "source": [
    "InputText=\"The quick brown fox jumps over the lazy dog.\""
   ]
  },
  {
   "cell_type": "markdown",
   "metadata": {},
   "source": [
    "## Query parameters\n",
    "Accept: type of output<br/>\n",
    "voice: voice used. default en-US_MichaelVoice\n",
    "\n",
    "Other english voice: en-US_AllisonVoice, en-US_LisaVoice, en-GB_KateVoice"
   ]
  },
  {
   "cell_type": "code",
   "execution_count": null,
   "metadata": {},
   "outputs": [],
   "source": [
    "t2s_response = text2speech.synthesize(InputText,\n",
    "                           voice='en-US_AllisonVoice',\n",
    "                           accept='audio/mp3')\n",
    "print(t2s_response.status_code) # Should be 200"
   ]
  },
  {
   "cell_type": "markdown",
   "metadata": {},
   "source": [
    "## Write the local file to COS"
   ]
  },
  {
   "cell_type": "code",
   "execution_count": null,
   "metadata": {},
   "outputs": [],
   "source": [
    "import io\n",
    "cos.upload_fileobj(io.BytesIO(t2s_response.get_result().content), Bucket, 'voice.mp3')"
   ]
  },
  {
   "cell_type": "markdown",
   "metadata": {},
   "source": [
    "## Convert speech to text\n",
    "This assumes that you have created a watson service and have a copy of the credentials<br/>\n",
    "First create the credentials for the watson service\n",
    "* Documentation: https://console.bluemix.net/docs/services/speech-to-text\n",
    "* API reference: https://www.ibm.com/watson/developercloud/speech-to-text/api/v1/"
   ]
  },
  {
   "cell_type": "code",
   "execution_count": null,
   "metadata": {},
   "outputs": [],
   "source": [
    "# speech to text credentials\n",
    "s2t_credentials = {\n",
    "  \"apikey\": \"uiBmgYn0wa905P9RgGx-hQKYUlUxap71mJPRTn3BVZ7M\",\n",
    "  \"iam_apikey_description\": \"Auto-generated for key 47d46c1e-e05b-4217-ab39-f62fb5bc74a6\",\n",
    "  \"iam_apikey_name\": \"wdp-writer\",\n",
    "  \"iam_role_crn\": \"crn:v1:bluemix:public:iam::::serviceRole:Writer\",\n",
    "  \"iam_serviceid_crn\": \"crn:v1:bluemix:public:iam-identity::a/e46675b7f1bf89b09b5badfb3bd4a7b5::serviceid:ServiceId-c1ba18f6-3f21-417e-b0c7-c901562be362\",\n",
    "  \"url\": \"https://stream.watsonplatform.net/speech-to-text/api\"\n",
    "}"
   ]
  },
  {
   "cell_type": "markdown",
   "metadata": {},
   "source": [
    "## Find out which models are available"
   ]
  },
  {
   "cell_type": "code",
   "execution_count": null,
   "metadata": {},
   "outputs": [],
   "source": [
    "from ibm_watson import SpeechToTextV1\n",
    "import json\n",
    "\n",
    "speech2text = SpeechToTextV1(\n",
    "    iam_apikey=s2t_credentials['apikey'],\n",
    "    url=s2t_credentials['url'])\n"
   ]
  },
  {
   "cell_type": "code",
   "execution_count": null,
   "metadata": {},
   "outputs": [],
   "source": [
    "speech_models = speech2text.list_models().get_result()\n",
    "print(json.dumps(speech_models, indent=2, sort_keys=True))"
   ]
  },
  {
   "cell_type": "markdown",
   "metadata": {},
   "source": [
    "## Convert speech to text\n",
    "Convert the output of text-to-speech back to text<br/>\n",
    "Default model: en-US_BroadbandModel\n",
    "\n",
    "The query for a local file would be:<br/>\n",
    "`s2t_response = requests.post(s2t_url2, files={'file': open('./voice.mp3', 'rb')}, headers=s2t_headers2)`\n",
    "\n",
    "The query for binary data such as the one generated form the text-to-speech content would be:<br/>\n",
    "`s2t_response = requests.post(s2t_url2, files={'file': io.BytesIO(t2s_response.content)}, headers=s2t_headers2)`\n",
    "\n",
    "Instead, we are reading the `voice.mp3` that we wrote to the IBM Cloud Object Storage (COS) in the earlier step."
   ]
  },
  {
   "cell_type": "code",
   "execution_count": null,
   "metadata": {},
   "outputs": [],
   "source": [
    "# from os.path import join, dirname\n",
    "voice_input = cos.get_object(Bucket=Bucket,Key='voice.mp3')['Body']\n",
    "\n",
    "s2t_response = speech2text.recognize(\n",
    "        audio=io.BytesIO(voice_input.read()),\n",
    "        content_type='audio/mp3')\n",
    "print(s2t_response.status_code) # Should be 200\n",
    "print(json.dumps(s2t_response.get_result(), indent=2))"
   ]
  },
  {
   "cell_type": "code",
   "execution_count": null,
   "metadata": {},
   "outputs": [],
   "source": [
    "result = s2t_response.get_result()\n",
    "print(result['results'][0]['alternatives'][0]['transcript'])"
   ]
  },
  {
   "cell_type": "code",
   "execution_count": null,
   "metadata": {},
   "outputs": [],
   "source": []
  }
 ],
 "metadata": {
  "kernelspec": {
   "display_name": "Python 3.6",
   "language": "python",
   "name": "python3"
  },
  "language_info": {
   "codemirror_mode": {
    "name": "ipython",
    "version": 3
   },
   "file_extension": ".py",
   "mimetype": "text/x-python",
   "name": "python",
   "nbconvert_exporter": "python",
   "pygments_lexer": "ipython3",
   "version": "3.6.8"
  }
 },
 "nbformat": 4,
 "nbformat_minor": 1
}

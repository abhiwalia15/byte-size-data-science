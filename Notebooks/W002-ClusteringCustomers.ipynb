{
 "cells": [
  {
   "cell_type": "markdown",
   "metadata": {},
   "source": [
    "<IMG SRC=\"https://github.com/jacquesroy/byte-size-data-science/raw/master/images/Banner.png\" ALT=\"BSDS Banner\" WIDTH=1195 HEIGHT=200>"
   ]
  },
  {
   "cell_type": "markdown",
   "metadata": {},
   "source": [
    "# Clustering customers using K-Means"
   ]
  },
  {
   "cell_type": "markdown",
   "metadata": {},
   "source": [
    "### W002-Understanding kmeans\n",
    "Execute the next cell if you want to see the `Byte Size Data Science` youtube channel video"
   ]
  },
  {
   "cell_type": "code",
   "execution_count": null,
   "metadata": {},
   "outputs": [],
   "source": [
    "from IPython.display import IFrame\n",
    "\n",
    "IFrame(src=\"https://www.youtube.com/embed/lc78xfSJeQA?rel=0&amp;controls=0&amp;showinfo=0\", width=560, height=315)\n"
   ]
  },
  {
   "cell_type": "markdown",
   "metadata": {},
   "source": [
    "## Read the customer data"
   ]
  },
  {
   "cell_type": "code",
   "execution_count": null,
   "metadata": {},
   "outputs": [],
   "source": [
    "import sys\n",
    "import types\n",
    "import pandas as pd\n",
    "import io\n",
    "import os\n",
    "import requests\n",
    "\n",
    "url = 'https://github.com/jacquesroy/byte-size-data-science/raw/master/data/customer_churn.csv'\n",
    "content = requests.get(url).content\n",
    "customers_pd = pd.read_csv(io.StringIO(content.decode('utf-8')))\n",
    "customers_pd.head()"
   ]
  },
  {
   "cell_type": "code",
   "execution_count": null,
   "metadata": {},
   "outputs": [],
   "source": [
    "# Number of rows\n",
    "customers_pd.count()[0]"
   ]
  },
  {
   "cell_type": "markdown",
   "metadata": {},
   "source": [
    "## Using K-Means to group customers\n",
    "We are using K-means to find the center of groupings for the customers."
   ]
  },
  {
   "cell_type": "code",
   "execution_count": null,
   "metadata": {},
   "outputs": [],
   "source": [
    "# Need to prepare the character attributes...\n",
    "import numpy as np\n",
    "cols=[\"Gender\", \"Status\", \"Children\", \"Est Income\", \"Car Owner\", \"Age\", \"LongDistance\", \n",
    "      \"International\", \"Local\", \"Dropped\", \"Paymethod\", \"LocalBilltype\", \n",
    "      \"LongDistanceBilltype\", \"Usage\", \"RatePlan\"]\n",
    "\n",
    "X = customers_pd.iloc[:,2:17].values # Columns from Gender on\n",
    "y = customers_pd.iloc[:,1].values # CHURN column"
   ]
  },
  {
   "cell_type": "markdown",
   "metadata": {},
   "source": [
    "### Encoding:\n",
    "- Categorical: Gender, Status, Car Owner, Paymethod, LocalBilltype, LongDistanceBilltype\n",
    "\n",
    "Other encoding could be used for some attributes. For example onehotencoder for Gender and Status"
   ]
  },
  {
   "cell_type": "code",
   "execution_count": null,
   "metadata": {},
   "outputs": [],
   "source": [
    "# Encoding categorical data before split\n",
    "from sklearn.preprocessing import LabelEncoder, OneHotEncoder\n",
    "from sklearn.preprocessing import StandardScaler\n",
    "# columns: 0 (Gender), 1(Status), 4 (Car owner), 10 (Payment method), 11 (LocalBillType), 12 (LongDistanceBillType)\n",
    "\n",
    "labelencoder_X_0 = LabelEncoder()\n",
    "X[:,0] = labelencoder_X_0.fit_transform(X[:,0])\n",
    "labelencoder_X_1 = LabelEncoder()\n",
    "X[:,1] = labelencoder_X_1.fit_transform(X[:,1])\n",
    "labelencoder_X_4 = LabelEncoder()\n",
    "X[:,4] = labelencoder_X_4.fit_transform(X[:,4])\n",
    "labelencoder_X_10 = LabelEncoder()\n",
    "X[:,10] = labelencoder_X_10.fit_transform(X[:,10])\n",
    "labelencoder_X_11 = LabelEncoder()\n",
    "X[:,11] = labelencoder_X_11.fit_transform(X[:,11])\n",
    "labelencoder_X_12 = LabelEncoder()\n",
    "X[:,12] = labelencoder_X_12.fit_transform(X[:,12])\n",
    "# Since the answer column is \"T\" or \"F\", we have to encode it\n",
    "labelencoder_y = LabelEncoder()\n",
    "y = labelencoder_y.fit_transform(y)"
   ]
  },
  {
   "cell_type": "code",
   "execution_count": null,
   "metadata": {},
   "outputs": [],
   "source": [
    "# Feature scaling\n",
    "# we need all the values in a standardized range \n",
    "sc = StandardScaler()\n",
    "X_scaled = sc.fit_transform(X)\n",
    "\n",
    "# Look at the values in one record\n",
    "# X_scaled[0]"
   ]
  },
  {
   "cell_type": "code",
   "execution_count": null,
   "metadata": {},
   "outputs": [],
   "source": [
    "import matplotlib.pyplot as plt\n",
    "from sklearn import datasets\n",
    "from sklearn.cluster import KMeans\n",
    "import sklearn.metrics as sm\n",
    "\n",
    "%matplotlib inline"
   ]
  },
  {
   "cell_type": "code",
   "execution_count": null,
   "metadata": {},
   "outputs": [],
   "source": [
    "# K Means Cluster\n",
    "k=2\n",
    "model = KMeans(n_clusters=k)\n",
    "kmeans = model.fit(X_scaled)\n",
    "vals=[0] * k\n",
    "for i in kmeans.labels_ :\n",
    "    vals[i] = vals[i] + 1\n",
    "# Distribution between clusters\n",
    "vals"
   ]
  },
  {
   "cell_type": "code",
   "execution_count": null,
   "metadata": {},
   "outputs": [],
   "source": [
    "# Find if the clustering represents the churn in any way (of course not!)\n",
    "# Rows[0]: True, Rows[1]: False\n",
    "# Cols[0]: cluster 0, cols[1]: cluster 1\n",
    "res=np.zeros((k,k), int)\n",
    "for l in range(0,len(y)) :\n",
    "    res[y[l],kmeans.labels_[l]] += 1\n",
    "res"
   ]
  },
  {
   "cell_type": "markdown",
   "metadata": {},
   "source": [
    "The perfect grouping for churn would have given something like:<br/>\n",
    "  723, 0<br/>\n",
    "    0, 1076"
   ]
  },
  {
   "cell_type": "markdown",
   "metadata": {},
   "source": [
    "## Finding the optimal K\n",
    "Using the elbow method"
   ]
  },
  {
   "cell_type": "code",
   "execution_count": null,
   "metadata": {},
   "outputs": [],
   "source": [
    "from scipy.spatial.distance import cdist\n",
    "\n",
    "distortions = []\n",
    "K = range(2,15)\n",
    "for k in K :\n",
    "    kmeanModel = KMeans(n_clusters=k).fit(X_scaled)\n",
    "    distortions.append(sum(np.min(cdist(X_scaled, kmeanModel.cluster_centers_, 'euclidean'), axis=1)) / X_scaled.shape[0])\n",
    "\n",
    "# Plot the elbow\n",
    "plt.plot(K, distortions, 'bx-')\n",
    "plt.xlabel('k')\n",
    "plt.ylabel('Distortion')\n",
    "plt.title('The Elbow Method for optimal k')\n",
    "plt.show()"
   ]
  },
  {
   "cell_type": "code",
   "execution_count": null,
   "metadata": {},
   "outputs": [],
   "source": [
    "# K Means Cluster\n",
    "k=10\n",
    "model = KMeans(n_clusters=k)\n",
    "kmeans = model.fit(X_scaled)\n",
    "vals=[0] * k\n",
    "for i in kmeans.labels_ :\n",
    "    vals[i] = vals[i] + 1\n",
    "# Distribution between clusters\n",
    "print(vals)"
   ]
  },
  {
   "cell_type": "markdown",
   "metadata": {},
   "source": [
    "## Extra: projection of the clusters to a 2D graph"
   ]
  },
  {
   "cell_type": "code",
   "execution_count": null,
   "metadata": {},
   "outputs": [],
   "source": [
    "from sklearn.decomposition import PCA as sklearnPCA\n",
    "\n",
    "# PCA: Principal Component Analysis\n",
    "# Used to reduce the number of dimensions\n",
    "pca = sklearnPCA(n_components=2) #2-dimensional PCA\n",
    "transformed = pd.DataFrame(pca.fit_transform(X_scaled))\n"
   ]
  },
  {
   "cell_type": "code",
   "execution_count": null,
   "metadata": {},
   "outputs": [],
   "source": [
    "colors=['black', 'red', 'gold', 'cyan', 'limegreen', 'blue', 'orange', 'aqua', 'magenta', 'y', 'gray']\n",
    "c = kmeans.labels_\n",
    "for n in range(0,k) :\n",
    "    plt.scatter(transformed[c==n][0], transformed[c==n][1], label='Cluster' + str(n), c=colors[n])\n",
    "\n",
    "plt.title('15-dimension projection (PCA)')\n",
    "plt.legend()\n",
    "plt.show()"
   ]
  },
  {
   "cell_type": "markdown",
   "metadata": {},
   "source": [
    "## More Extras: projection of the clusters to a 3D graph"
   ]
  },
  {
   "cell_type": "code",
   "execution_count": null,
   "metadata": {},
   "outputs": [],
   "source": [
    "from sklearn.decomposition import PCA as sklearnPCA\n",
    "from mpl_toolkits import mplot3d\n",
    "\n",
    "pca3d = sklearnPCA(n_components=3) #3-dimensional PCA\n",
    "transformed3d = pd.DataFrame(pca3d.fit_transform(X_scaled))\n"
   ]
  },
  {
   "cell_type": "code",
   "execution_count": null,
   "metadata": {},
   "outputs": [],
   "source": [
    "colors=['black', 'red', 'gold', 'cyan', 'limegreen', 'blue', 'orange', 'aqua', 'magenta', 'y', 'gray']\n",
    "c = kmeans.labels_\n",
    "\n",
    "ax = plt.axes(projection='3d')\n",
    "\n",
    "for n in range(0,k) :\n",
    "    ax.scatter3D(transformed3d[c==n][0], transformed3d[c==n][1], transformed3d[c==n][2],\n",
    "                 label='Cluster' + str(n), c=colors[n])\n",
    "\n",
    "plt.title('15-dimension to 3D projection (PCA)')\n",
    "plt.legend()\n",
    "plt.show()\n",
    "# ax.scatter3D(xdata, ydata, zdata, c=zdata, cmap='Greens');"
   ]
  },
  {
   "cell_type": "markdown",
   "metadata": {},
   "source": [
    "## Try dimension reduction with TSNE\n",
    "T-SNE: t-Distributed Stochastic Neighbor Embedding"
   ]
  },
  {
   "cell_type": "code",
   "execution_count": null,
   "metadata": {},
   "outputs": [],
   "source": [
    "from sklearn.manifold import TSNE\n",
    "import re\n",
    "\n",
    "tsne = TSNE(n_components=2)\n",
    "X_tsne = pd.DataFrame(tsne.fit_transform(X_scaled) )"
   ]
  },
  {
   "cell_type": "code",
   "execution_count": null,
   "metadata": {},
   "outputs": [],
   "source": [
    "colors=['black', 'red', 'gold', 'cyan', 'limegreen', 'blue', 'orange', 'aqua', 'magenta', 'y', 'gray']\n",
    "c = kmeans.labels_\n",
    "for n in range(0,k) :\n",
    "    plt.scatter(X_tsne[c==n][0], X_tsne[c==n][1], label='Cluster' + str(n), c=colors[n])\n",
    "\n",
    "plt.title('15-dimension projection (TSNE)')\n",
    "plt.legend()\n",
    "plt.show()"
   ]
  },
  {
   "cell_type": "code",
   "execution_count": null,
   "metadata": {},
   "outputs": [],
   "source": [
    "tsne3d = TSNE(n_components=3)\n",
    "X_tsne3d = pd.DataFrame(tsne3d.fit_transform(X_scaled) )"
   ]
  },
  {
   "cell_type": "code",
   "execution_count": null,
   "metadata": {},
   "outputs": [],
   "source": [
    "ax = plt.axes(projection='3d')\n",
    "\n",
    "for n in range(0,k) :\n",
    "    ax.scatter3D(X_tsne3d[c==n][0], X_tsne3d[c==n][1], X_tsne3d[c==n][2],\n",
    "                 label='Cluster' + str(n), c=colors[n])\n",
    "\n",
    "plt.title('15-dimension to 3D projection (TSNE)')\n",
    "plt.legend()\n",
    "plt.show()"
   ]
  },
  {
   "cell_type": "code",
   "execution_count": null,
   "metadata": {},
   "outputs": [],
   "source": []
  }
 ],
 "metadata": {
  "kernelspec": {
   "display_name": "Python 3.6",
   "language": "python",
   "name": "python3"
  },
  "language_info": {
   "codemirror_mode": {
    "name": "ipython",
    "version": 3
   },
   "file_extension": ".py",
   "mimetype": "text/x-python",
   "name": "python",
   "nbconvert_exporter": "python",
   "pygments_lexer": "ipython3",
   "version": "3.6.8"
  }
 },
 "nbformat": 4,
 "nbformat_minor": 1
}
